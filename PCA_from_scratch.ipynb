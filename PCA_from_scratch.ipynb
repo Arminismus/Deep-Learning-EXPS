{
  "nbformat": 4,
  "nbformat_minor": 0,
  "metadata": {
    "colab": {
      "provenance": [],
      "collapsed_sections": [],
      "include_colab_link": true
    },
    "kernelspec": {
      "name": "python3",
      "display_name": "Python 3"
    },
    "language_info": {
      "name": "python"
    }
  },
  "cells": [
    {
      "cell_type": "markdown",
      "metadata": {
        "id": "view-in-github",
        "colab_type": "text"
      },
      "source": [
        "<a href=\"https://colab.research.google.com/github/Arminismus/Deep-Learning-EXPS/blob/main/PCA_from_scratch.ipynb\" target=\"_parent\"><img src=\"https://colab.research.google.com/assets/colab-badge.svg\" alt=\"Open In Colab\"/></a>"
      ]
    },
    {
      "cell_type": "code",
      "execution_count": null,
      "metadata": {
        "id": "Y8Lm0p01GEoh"
      },
      "outputs": [],
      "source": [
        "import numpy as np"
      ]
    },
    {
      "cell_type": "code",
      "source": [
        "X = np.random.randint(10,50,100).reshape(20,5)"
      ],
      "metadata": {
        "id": "JrlWw_LyGPoG"
      },
      "execution_count": null,
      "outputs": []
    },
    {
      "cell_type": "code",
      "source": [],
      "metadata": {
        "colab": {
          "base_uri": "https://localhost:8080/"
        },
        "id": "A6ZW2fMQGY4H",
        "outputId": "c8618523-5ba6-42a1-f5b9-df70bf83c6b0"
      },
      "execution_count": null,
      "outputs": [
        {
          "output_type": "execute_result",
          "data": {
            "text/plain": [
              "array([[19, 27, 35, 29, 29],\n",
              "       [37, 38, 15, 19, 18],\n",
              "       [32, 15, 31, 14, 30],\n",
              "       [30, 17, 11, 25, 24],\n",
              "       [49, 25, 33, 36, 23],\n",
              "       [28, 45, 21, 44, 36],\n",
              "       [39, 27, 10, 22, 44],\n",
              "       [24, 24, 10, 45, 45],\n",
              "       [28, 11, 45, 26, 35],\n",
              "       [28, 21, 38, 13, 36],\n",
              "       [29, 33, 14, 32, 44],\n",
              "       [33, 29, 48, 40, 31],\n",
              "       [47, 19, 26, 31, 20],\n",
              "       [27, 43, 12, 35, 11],\n",
              "       [10, 27, 15, 45, 34],\n",
              "       [35, 43, 19, 41, 10],\n",
              "       [32, 34, 19, 40, 36],\n",
              "       [14, 23, 39, 25, 48],\n",
              "       [34, 10, 49, 17, 42],\n",
              "       [28, 40, 47, 27, 23]])"
            ]
          },
          "metadata": {},
          "execution_count": 4
        }
      ]
    },
    {
      "cell_type": "code",
      "source": [
        "X_meaned = X - np.mean(X,axis = 0)\n",
        "X_meaned"
      ],
      "metadata": {
        "colab": {
          "base_uri": "https://localhost:8080/"
        },
        "id": "XPuga1iAGbVB",
        "outputId": "e0b7b471-36ad-4e71-8f6a-b65cd5094517"
      },
      "execution_count": null,
      "outputs": [
        {
          "output_type": "execute_result",
          "data": {
            "text/plain": [
              "array([[-11.15,  -0.55,   8.15,  -1.3 ,  -1.95],\n",
              "       [  6.85,  10.45, -11.85, -11.3 , -12.95],\n",
              "       [  1.85, -12.55,   4.15, -16.3 ,  -0.95],\n",
              "       [ -0.15, -10.55, -15.85,  -5.3 ,  -6.95],\n",
              "       [ 18.85,  -2.55,   6.15,   5.7 ,  -7.95],\n",
              "       [ -2.15,  17.45,  -5.85,  13.7 ,   5.05],\n",
              "       [  8.85,  -0.55, -16.85,  -8.3 ,  13.05],\n",
              "       [ -6.15,  -3.55, -16.85,  14.7 ,  14.05],\n",
              "       [ -2.15, -16.55,  18.15,  -4.3 ,   4.05],\n",
              "       [ -2.15,  -6.55,  11.15, -17.3 ,   5.05],\n",
              "       [ -1.15,   5.45, -12.85,   1.7 ,  13.05],\n",
              "       [  2.85,   1.45,  21.15,   9.7 ,   0.05],\n",
              "       [ 16.85,  -8.55,  -0.85,   0.7 , -10.95],\n",
              "       [ -3.15,  15.45, -14.85,   4.7 , -19.95],\n",
              "       [-20.15,  -0.55, -11.85,  14.7 ,   3.05],\n",
              "       [  4.85,  15.45,  -7.85,  10.7 , -20.95],\n",
              "       [  1.85,   6.45,  -7.85,   9.7 ,   5.05],\n",
              "       [-16.15,  -4.55,  12.15,  -5.3 ,  17.05],\n",
              "       [  3.85, -17.55,  22.15, -13.3 ,  11.05],\n",
              "       [ -2.15,  12.45,  20.15,  -3.3 ,  -7.95]])"
            ]
          },
          "metadata": {},
          "execution_count": 7
        }
      ]
    },
    {
      "cell_type": "code",
      "source": [
        "#Creating a covariance matrix \n",
        "\n",
        "cov_mat = np.cov(X_meaned,rowvar = False)"
      ],
      "metadata": {
        "id": "PNdF2flpGiZC"
      },
      "execution_count": null,
      "outputs": []
    },
    {
      "cell_type": "code",
      "source": [
        "cov_mat"
      ],
      "metadata": {
        "colab": {
          "base_uri": "https://localhost:8080/"
        },
        "id": "I5gBQXq4JaTw",
        "outputId": "c1e68a3d-a6a9-4313-f585-668c54904a74"
      },
      "execution_count": null,
      "outputs": [
        {
          "output_type": "execute_result",
          "data": {
            "text/plain": [
              "array([[ 8.82394737e+01, -4.24473684e+00, -1.34210526e-01,\n",
              "        -1.54684211e+01, -3.81500000e+01],\n",
              "       [-4.24473684e+00,  1.11944737e+02, -5.55447368e+01,\n",
              "         5.42473684e+01, -4.76026316e+01],\n",
              "       [-1.34210526e-01, -5.55447368e+01,  1.95292105e+02,\n",
              "        -4.90052632e+01,  1.88342105e+01],\n",
              "       [-1.54684211e+01,  5.42473684e+01, -4.90052632e+01,\n",
              "         1.05589474e+02, -1.06157895e+01],\n",
              "       [-3.81500000e+01, -4.76026316e+01,  1.88342105e+01,\n",
              "        -1.06157895e+01,  1.24050000e+02]])"
            ]
          },
          "metadata": {},
          "execution_count": 12
        }
      ]
    },
    {
      "cell_type": "code",
      "source": [
        "eigen_values,eigen_vectors = np.linalg.eigh(cov_mat)"
      ],
      "metadata": {
        "id": "FH5Aii9uJPCq"
      },
      "execution_count": null,
      "outputs": []
    },
    {
      "cell_type": "code",
      "source": [
        "# we sort the eigen_vectors via their eigen values, sorting them by variability"
      ],
      "metadata": {
        "colab": {
          "base_uri": "https://localhost:8080/"
        },
        "id": "Kzvg12ifJbZT",
        "outputId": "3b0296b1-6079-463a-bda6-e7584f8ed50b"
      },
      "execution_count": null,
      "outputs": [
        {
          "output_type": "execute_result",
          "data": {
            "text/plain": [
              "array([[-0.34919394,  0.66833421, -0.42042245,  0.5043512 , -0.01636497],\n",
              "       [-0.69884572, -0.22389534,  0.44451282,  0.16762278, -0.48558882],\n",
              "       [-0.07457865,  0.09602903,  0.59191735,  0.3379425 ,  0.72155746],\n",
              "       [ 0.36686417,  0.63612087,  0.52371809, -0.1653219 , -0.39893477],\n",
              "       [-0.49952673,  0.29887946, -0.03172584, -0.75894401,  0.29007167]])"
            ]
          },
          "metadata": {},
          "execution_count": 15
        }
      ]
    },
    {
      "cell_type": "code",
      "source": [
        "sorted_index = np.argsort(Eigen_values)[::-1] #Why does this sort it in descending order \n",
        "#[::-1] reverses the order of an array\n",
        "#DO it manually here\n",
        "sorted_eigen_values = eigen_values[sorted_index]"
      ],
      "metadata": {
        "id": "hHltjjg0JYEo"
      },
      "execution_count": null,
      "outputs": []
    },
    {
      "cell_type": "code",
      "source": [
        "sorted_eigen_vectors = eigen_vectors[:,sorted_index] # why is this notation used? \n",
        "sorted_eigen_vectors\n",
        "# We have successfully sorted the eigen values for the purpose of finding the principal components "
      ],
      "metadata": {
        "colab": {
          "base_uri": "https://localhost:8080/"
        },
        "id": "etTACZnhKvvh",
        "outputId": "856b3b7c-fedb-4fa9-eda4-778d4f03903c"
      },
      "execution_count": null,
      "outputs": [
        {
          "output_type": "execute_result",
          "data": {
            "text/plain": [
              "array([[-0.01636497,  0.5043512 , -0.42042245,  0.66833421, -0.34919394],\n",
              "       [-0.48558882,  0.16762278,  0.44451282, -0.22389534, -0.69884572],\n",
              "       [ 0.72155746,  0.3379425 ,  0.59191735,  0.09602903, -0.07457865],\n",
              "       [-0.39893477, -0.1653219 ,  0.52371809,  0.63612087,  0.36686417],\n",
              "       [ 0.29007167, -0.75894401, -0.03172584,  0.29887946, -0.49952673]])"
            ]
          },
          "metadata": {},
          "execution_count": 37
        }
      ]
    },
    {
      "cell_type": "code",
      "source": [
        "# we then define the number of components to consider, allwoing us to extract features from the dataset.\n",
        "n_components = 2\n",
        "eigen_vector_subset = sorted_eigen_vectors[:,0:n_components]"
      ],
      "metadata": {
        "id": "YoMRi_dJN15M"
      },
      "execution_count": null,
      "outputs": []
    },
    {
      "cell_type": "code",
      "source": [
        "x_reduced = np.dot(eigen_vector_subset.transpose(),X_meaned.transpose()).transpose()\n",
        "x_reduced"
      ],
      "metadata": {
        "colab": {
          "base_uri": "https://localhost:8080/"
        },
        "id": "csIRXfklT7Ro",
        "outputId": "bef35621-c618-43bd-b017-2d99d4367b54"
      },
      "execution_count": null,
      "outputs": [
        {
          "output_type": "execute_result",
          "data": {
            "text/plain": [
              "array([[  6.28321196,  -1.26661767],\n",
              "       [-12.98542425,  12.89830746],\n",
              "       [ 15.28539655,   3.6475891 ],\n",
              "       [ -6.21291282,  -1.0495947 ],\n",
              "       [  0.78735231,  16.24919839],\n",
              "       [-16.6599957 ,  -6.2338786 ],\n",
              "       [ -4.93940545,  -9.85506314],\n",
              "       [-12.12259253, -22.4845472 ],\n",
              "       [ 24.05815723,  -0.08769462],\n",
              "       [ 19.62759052,   0.61317634],\n",
              "       [ -8.79240653, -14.19428747],\n",
              "       [ 10.65503267,   7.18636822],\n",
              "       [ -0.19282825,  14.97260336],\n",
              "       [-25.82784903,  10.34653947],\n",
              "       [-12.93325051, -19.004499  ],\n",
              "       [-23.59154681,  16.51395915],\n",
              "       [-11.23135444,  -6.07492174],\n",
              "       [ 18.30072266, -16.86574329],\n",
              "       [ 32.95270069,   0.29784886],\n",
              "       [  7.53940172,  14.39125708]])"
            ]
          },
          "metadata": {},
          "execution_count": 47
        }
      ]
    },
    {
      "cell_type": "code",
      "source": [
        "#Wrting everything into one function \n",
        "\n",
        "\n",
        "def PCA(X,n_components):\n",
        "  \n",
        "  X_meaned = X - np.mean(X,axis = 0)\n",
        "\n",
        "  #after having meaned the values, we try to find the covariance matrix\n",
        "\n",
        "  cov_mat = np.cov(X_meaned,rowvar = False)\n",
        "\n",
        "  #we find the eigenvalues and eigenvectors\n",
        "\n",
        "  eigen_values,eigen_vectors = np.linalg.eigh(cov_mat)\n",
        "\n",
        "  #We sort the data with respect to the eigenvalues, which correspond to the of the data along that principal component\n",
        "  sorted_index = np.argsort(eigen_values)[::-1]\n",
        "  sorted_eigen_values = eigen_values[sorted_index]\n",
        "\n",
        "\n",
        "  sorted_eigen_vectors = eigen_vectors[:,sorted_index]\n",
        "  \n",
        "  #now we choose the number of components to keep, and we take those components.\n",
        "\n",
        "\n",
        "\n",
        "  eigen_vector_subset = sorted_eigen_vectors[:,0:n_components]\n",
        "\n",
        "  #at this stage, we project the data onto the components, and then we output the data.\n",
        "\n",
        "\n",
        "  X_reduced = np.dot(eigen_vector_subset.transpose(),X_meaned.transpose()).transpose()\n",
        "\n",
        "  return X_reduced\n"
      ],
      "metadata": {
        "id": "NfGVK1vmUsO-"
      },
      "execution_count": null,
      "outputs": []
    },
    {
      "cell_type": "code",
      "source": [
        "import sklearn \n",
        "from sklearn.datasets import load_iris"
      ],
      "metadata": {
        "id": "SNTW-BZ1p3AW"
      },
      "execution_count": null,
      "outputs": []
    },
    {
      "cell_type": "code",
      "source": [
        "import matplotlib.pyplot as plt\n",
        "import seaborn as sns \n",
        "#How to draw pairplots\n",
        "import pandas as pd"
      ],
      "metadata": {
        "id": "exCYtqm6riJh"
      },
      "execution_count": null,
      "outputs": []
    },
    {
      "cell_type": "code",
      "source": [
        "iris = load_iris()\n",
        "Data = pd.DataFrame(iris.data)\n",
        "g = sns.pairplot(Data)\n",
        "cov_mat = np.cov(Data,rowvar = False)\n",
        "cov_mat "
      ],
      "metadata": {
        "colab": {
          "base_uri": "https://localhost:8080/",
          "height": 795
        },
        "id": "tjAZG7GQqEZq",
        "outputId": "5a67fe60-cefe-42e5-8c4f-7dd29cf02faf"
      },
      "execution_count": null,
      "outputs": [
        {
          "output_type": "execute_result",
          "data": {
            "text/plain": [
              "array([[ 0.68569351, -0.042434  ,  1.27431544,  0.51627069],\n",
              "       [-0.042434  ,  0.18997942, -0.32965638, -0.12163937],\n",
              "       [ 1.27431544, -0.32965638,  3.11627785,  1.2956094 ],\n",
              "       [ 0.51627069, -0.12163937,  1.2956094 ,  0.58100626]])"
            ]
          },
          "metadata": {},
          "execution_count": 81
        },
        {
          "output_type": "display_data",
          "data": {
            "text/plain": [
              "<Figure size 720x720 with 20 Axes>"
            ],
            "image/png": "[encoded data removed]"
          },
          "metadata": {
            "needs_background": "light"
          }
        }
      ]
    },
    {
      "cell_type": "code",
      "source": [
        "X = iris.data\n",
        "Y = iris.target\n",
        "\n",
        "Data = pd.DataFrame(X)\n",
        "Data[\"Target\"] =  Y\n",
        "Data"
      ],
      "metadata": {
        "colab": {
          "base_uri": "https://localhost:8080/",
          "height": 423
        },
        "id": "MgPmRKby3L2J",
        "outputId": "32249bec-2918-4730-d1be-0711781c7bfb"
      },
      "execution_count": null,
      "outputs": [
        {
          "output_type": "execute_result",
          "data": {
            "text/plain": [
              "       0    1    2    3  Target\n",
              "0    5.1  3.5  1.4  0.2       0\n",
              "1    4.9  3.0  1.4  0.2       0\n",
              "2    4.7  3.2  1.3  0.2       0\n",
              "3    4.6  3.1  1.5  0.2       0\n",
              "4    5.0  3.6  1.4  0.2       0\n",
              "..   ...  ...  ...  ...     ...\n",
              "145  6.7  3.0  5.2  2.3       2\n",
              "146  6.3  2.5  5.0  1.9       2\n",
              "147  6.5  3.0  5.2  2.0       2\n",
              "148  6.2  3.4  5.4  2.3       2\n",
              "149  5.9  3.0  5.1  1.8       2\n",
              "\n",
              "[150 rows x 5 columns]"
            ],
            "text/html": [
              "\n",
              "  <div id=\"df-f2431e93-c1d1-40b8-9bdf-6b79f882282f\">\n",
              "    <div class=\"colab-df-container\">\n",
              "      <div>\n",
              "<style scoped>\n",
              "    .dataframe tbody tr th:only-of-type {\n",
              "        vertical-align: middle;\n",
              "    }\n",
              "\n",
              "    .dataframe tbody tr th {\n",
              "        vertical-align: top;\n",
              "    }\n",
              "\n",
              "    .dataframe thead th {\n",
              "        text-align: right;\n",
              "    }\n",
              "</style>\n",
              "<table border=\"1\" class=\"dataframe\">\n",
              "  <thead>\n",
              "    <tr style=\"text-align: right;\">\n",
              "      <th></th>\n",
              "      <th>0</th>\n",
              "      <th>1</th>\n",
              "      <th>2</th>\n",
              "      <th>3</th>\n",
              "      <th>Target</th>\n",
              "    </tr>\n",
              "  </thead>\n",
              "  <tbody>\n",
              "    <tr>\n",
              "      <th>0</th>\n",
              "      <td>5.1</td>\n",
              "      <td>3.5</td>\n",
              "      <td>1.4</td>\n",
              "      <td>0.2</td>\n",
              "      <td>0</td>\n",
              "    </tr>\n",
              "    <tr>\n",
              "      <th>1</th>\n",
              "      <td>4.9</td>\n",
              "      <td>3.0</td>\n",
              "      <td>1.4</td>\n",
              "      <td>0.2</td>\n",
              "      <td>0</td>\n",
              "    </tr>\n",
              "    <tr>\n",
              "      <th>2</th>\n",
              "      <td>4.7</td>\n",
              "      <td>3.2</td>\n",
              "      <td>1.3</td>\n",
              "      <td>0.2</td>\n",
              "      <td>0</td>\n",
              "    </tr>\n",
              "    <tr>\n",
              "      <th>3</th>\n",
              "      <td>4.6</td>\n",
              "      <td>3.1</td>\n",
              "      <td>1.5</td>\n",
              "      <td>0.2</td>\n",
              "      <td>0</td>\n",
              "    </tr>\n",
              "    <tr>\n",
              "      <th>4</th>\n",
              "      <td>5.0</td>\n",
              "      <td>3.6</td>\n",
              "      <td>1.4</td>\n",
              "      <td>0.2</td>\n",
              "      <td>0</td>\n",
              "    </tr>\n",
              "    <tr>\n",
              "      <th>...</th>\n",
              "      <td>...</td>\n",
              "      <td>...</td>\n",
              "      <td>...</td>\n",
              "      <td>...</td>\n",
              "      <td>...</td>\n",
              "    </tr>\n",
              "    <tr>\n",
              "      <th>145</th>\n",
              "      <td>6.7</td>\n",
              "      <td>3.0</td>\n",
              "      <td>5.2</td>\n",
              "      <td>2.3</td>\n",
              "      <td>2</td>\n",
              "    </tr>\n",
              "    <tr>\n",
              "      <th>146</th>\n",
              "      <td>6.3</td>\n",
              "      <td>2.5</td>\n",
              "      <td>5.0</td>\n",
              "      <td>1.9</td>\n",
              "      <td>2</td>\n",
              "    </tr>\n",
              "    <tr>\n",
              "      <th>147</th>\n",
              "      <td>6.5</td>\n",
              "      <td>3.0</td>\n",
              "      <td>5.2</td>\n",
              "      <td>2.0</td>\n",
              "      <td>2</td>\n",
              "    </tr>\n",
              "    <tr>\n",
              "      <th>148</th>\n",
              "      <td>6.2</td>\n",
              "      <td>3.4</td>\n",
              "      <td>5.4</td>\n",
              "      <td>2.3</td>\n",
              "      <td>2</td>\n",
              "    </tr>\n",
              "    <tr>\n",
              "      <th>149</th>\n",
              "      <td>5.9</td>\n",
              "      <td>3.0</td>\n",
              "      <td>5.1</td>\n",
              "      <td>1.8</td>\n",
              "      <td>2</td>\n",
              "    </tr>\n",
              "  </tbody>\n",
              "</table>\n",
              "<p>150 rows × 5 columns</p>\n",
              "</div>\n",
              "      <button class=\"colab-df-convert\" onclick=\"convertToInteractive('df-f2431e93-c1d1-40b8-9bdf-6b79f882282f')\"\n",
              "              title=\"Convert this dataframe to an interactive table.\"\n",
              "              style=\"display:none;\">\n",
              "        \n",
              "  <svg xmlns=\"http://www.w3.org/2000/svg\" height=\"24px\"viewBox=\"0 0 24 24\"\n",
              "       width=\"24px\">\n",
              "    <path d=\"M0 0h24v24H0V0z\" fill=\"none\"/>\n",
              "    <path d=\"M18.56 5.44l.94 2.06.94-2.06 2.06-.94-2.06-.94-.94-2.06-.94 2.06-2.06.94zm-11 1L8.5 8.5l.94-2.06 2.06-.94-2.06-.94L8.5 2.5l-.94 2.06-2.06.94zm10 10l.94 2.06.94-2.06 2.06-.94-2.06-.94-.94-2.06-.94 2.06-2.06.94z\"/><path d=\"M17.41 7.96l-1.37-1.37c-.4-.4-.92-.59-1.43-.59-.52 0-1.04.2-1.43.59L10.3 9.45l-7.72 7.72c-.78.78-.78 2.05 0 2.83L4 21.41c.39.39.9.59 1.41.59.51 0 1.02-.2 1.41-.59l7.78-7.78 2.81-2.81c.8-.78.8-2.07 0-2.86zM5.41 20L4 18.59l7.72-7.72 1.47 1.35L5.41 20z\"/>\n",
              "  </svg>\n",
              "      </button>\n",
              "      \n",
              "  <style>\n",
              "    .colab-df-container {\n",
              "      display:flex;\n",
              "      flex-wrap:wrap;\n",
              "      gap: 12px;\n",
              "    }\n",
              "\n",
              "    .colab-df-convert {\n",
              "      background-color: #E8F0FE;\n",
              "      border: none;\n",
              "      border-radius: 50%;\n",
              "      cursor: pointer;\n",
              "      display: none;\n",
              "      fill: #1967D2;\n",
              "      height: 32px;\n",
              "      padding: 0 0 0 0;\n",
              "      width: 32px;\n",
              "    }\n",
              "\n",
              "    .colab-df-convert:hover {\n",
              "      background-color: #E2EBFA;\n",
              "      box-shadow: 0px 1px 2px rgba(60, 64, 67, 0.3), 0px 1px 3px 1px rgba(60, 64, 67, 0.15);\n",
              "      fill: #174EA6;\n",
              "    }\n",
              "\n",
              "    [theme=dark] .colab-df-convert {\n",
              "      background-color: #3B4455;\n",
              "      fill: #D2E3FC;\n",
              "    }\n",
              "\n",
              "    [theme=dark] .colab-df-convert:hover {\n",
              "      background-color: #434B5C;\n",
              "      box-shadow: 0px 1px 3px 1px rgba(0, 0, 0, 0.15);\n",
              "      filter: drop-shadow(0px 1px 2px rgba(0, 0, 0, 0.3));\n",
              "      fill: #FFFFFF;\n",
              "    }\n",
              "  </style>\n",
              "\n",
              "      <script>\n",
              "        const buttonEl =\n",
              "          document.querySelector('#df-f2431e93-c1d1-40b8-9bdf-6b79f882282f button.colab-df-convert');\n",
              "        buttonEl.style.display =\n",
              "          google.colab.kernel.accessAllowed ? 'block' : 'none';\n",
              "\n",
              "        async function convertToInteractive(key) {\n",
              "          const element = document.querySelector('#df-f2431e93-c1d1-40b8-9bdf-6b79f882282f');\n",
              "          const dataTable =\n",
              "            await google.colab.kernel.invokeFunction('convertToInteractive',\n",
              "                                                     [key], {});\n",
              "          if (!dataTable) return;\n",
              "\n",
              "          const docLinkHtml = 'Like what you see? Visit the ' +\n",
              "            '<a target=\"_blank\" href=https://colab.research.google.com/notebooks/data_table.ipynb>data table notebook</a>'\n",
              "            + ' to learn more about interactive tables.';\n",
              "          element.innerHTML = '';\n",
              "          dataTable['output_type'] = 'display_data';\n",
              "          await google.colab.output.renderOutput(dataTable, element);\n",
              "          const docLink = document.createElement('div');\n",
              "          docLink.innerHTML = docLinkHtml;\n",
              "          element.appendChild(docLink);\n",
              "        }\n",
              "      </script>\n",
              "    </div>\n",
              "  </div>\n",
              "  "
            ]
          },
          "metadata": {},
          "execution_count": 80
        }
      ]
    },
    {
      "cell_type": "code",
      "source": [],
      "metadata": {
        "id": "m8jsbH_l51yq"
      },
      "execution_count": null,
      "outputs": []
    },
    {
      "cell_type": "code",
      "source": [
        "X"
      ],
      "metadata": {
        "colab": {
          "base_uri": "https://localhost:8080/"
        },
        "id": "pxgnRq414h8c",
        "outputId": "80a77596-3103-4209-f52b-193a44dfc597"
      },
      "execution_count": null,
      "outputs": [
        {
          "output_type": "execute_result",
          "data": {
            "text/plain": [
              "array([[5.1, 3.5, 1.4, 0.2],\n",
              "       [4.9, 3. , 1.4, 0.2],\n",
              "       [4.7, 3.2, 1.3, 0.2],\n",
              "       [4.6, 3.1, 1.5, 0.2],\n",
              "       [5. , 3.6, 1.4, 0.2],\n",
              "       [5.4, 3.9, 1.7, 0.4],\n",
              "       [4.6, 3.4, 1.4, 0.3],\n",
              "       [5. , 3.4, 1.5, 0.2],\n",
              "       [4.4, 2.9, 1.4, 0.2],\n",
              "       [4.9, 3.1, 1.5, 0.1],\n",
              "       [5.4, 3.7, 1.5, 0.2],\n",
              "       [4.8, 3.4, 1.6, 0.2],\n",
              "       [4.8, 3. , 1.4, 0.1],\n",
              "       [4.3, 3. , 1.1, 0.1],\n",
              "       [5.8, 4. , 1.2, 0.2],\n",
              "       [5.7, 4.4, 1.5, 0.4],\n",
              "       [5.4, 3.9, 1.3, 0.4],\n",
              "       [5.1, 3.5, 1.4, 0.3],\n",
              "       [5.7, 3.8, 1.7, 0.3],\n",
              "       [5.1, 3.8, 1.5, 0.3],\n",
              "       [5.4, 3.4, 1.7, 0.2],\n",
              "       [5.1, 3.7, 1.5, 0.4],\n",
              "       [4.6, 3.6, 1. , 0.2],\n",
              "       [5.1, 3.3, 1.7, 0.5],\n",
              "       [4.8, 3.4, 1.9, 0.2],\n",
              "       [5. , 3. , 1.6, 0.2],\n",
              "       [5. , 3.4, 1.6, 0.4],\n",
              "       [5.2, 3.5, 1.5, 0.2],\n",
              "       [5.2, 3.4, 1.4, 0.2],\n",
              "       [4.7, 3.2, 1.6, 0.2],\n",
              "       [4.8, 3.1, 1.6, 0.2],\n",
              "       [5.4, 3.4, 1.5, 0.4],\n",
              "       [5.2, 4.1, 1.5, 0.1],\n",
              "       [5.5, 4.2, 1.4, 0.2],\n",
              "       [4.9, 3.1, 1.5, 0.2],\n",
              "       [5. , 3.2, 1.2, 0.2],\n",
              "       [5.5, 3.5, 1.3, 0.2],\n",
              "       [4.9, 3.6, 1.4, 0.1],\n",
              "       [4.4, 3. , 1.3, 0.2],\n",
              "       [5.1, 3.4, 1.5, 0.2],\n",
              "       [5. , 3.5, 1.3, 0.3],\n",
              "       [4.5, 2.3, 1.3, 0.3],\n",
              "       [4.4, 3.2, 1.3, 0.2],\n",
              "       [5. , 3.5, 1.6, 0.6],\n",
              "       [5.1, 3.8, 1.9, 0.4],\n",
              "       [4.8, 3. , 1.4, 0.3],\n",
              "       [5.1, 3.8, 1.6, 0.2],\n",
              "       [4.6, 3.2, 1.4, 0.2],\n",
              "       [5.3, 3.7, 1.5, 0.2],\n",
              "       [5. , 3.3, 1.4, 0.2],\n",
              "       [7. , 3.2, 4.7, 1.4],\n",
              "       [6.4, 3.2, 4.5, 1.5],\n",
              "       [6.9, 3.1, 4.9, 1.5],\n",
              "       [5.5, 2.3, 4. , 1.3],\n",
              "       [6.5, 2.8, 4.6, 1.5],\n",
              "       [5.7, 2.8, 4.5, 1.3],\n",
              "       [6.3, 3.3, 4.7, 1.6],\n",
              "       [4.9, 2.4, 3.3, 1. ],\n",
              "       [6.6, 2.9, 4.6, 1.3],\n",
              "       [5.2, 2.7, 3.9, 1.4],\n",
              "       [5. , 2. , 3.5, 1. ],\n",
              "       [5.9, 3. , 4.2, 1.5],\n",
              "       [6. , 2.2, 4. , 1. ],\n",
              "       [6.1, 2.9, 4.7, 1.4],\n",
              "       [5.6, 2.9, 3.6, 1.3],\n",
              "       [6.7, 3.1, 4.4, 1.4],\n",
              "       [5.6, 3. , 4.5, 1.5],\n",
              "       [5.8, 2.7, 4.1, 1. ],\n",
              "       [6.2, 2.2, 4.5, 1.5],\n",
              "       [5.6, 2.5, 3.9, 1.1],\n",
              "       [5.9, 3.2, 4.8, 1.8],\n",
              "       [6.1, 2.8, 4. , 1.3],\n",
              "       [6.3, 2.5, 4.9, 1.5],\n",
              "       [6.1, 2.8, 4.7, 1.2],\n",
              "       [6.4, 2.9, 4.3, 1.3],\n",
              "       [6.6, 3. , 4.4, 1.4],\n",
              "       [6.8, 2.8, 4.8, 1.4],\n",
              "       [6.7, 3. , 5. , 1.7],\n",
              "       [6. , 2.9, 4.5, 1.5],\n",
              "       [5.7, 2.6, 3.5, 1. ],\n",
              "       [5.5, 2.4, 3.8, 1.1],\n",
              "       [5.5, 2.4, 3.7, 1. ],\n",
              "       [5.8, 2.7, 3.9, 1.2],\n",
              "       [6. , 2.7, 5.1, 1.6],\n",
              "       [5.4, 3. , 4.5, 1.5],\n",
              "       [6. , 3.4, 4.5, 1.6],\n",
              "       [6.7, 3.1, 4.7, 1.5],\n",
              "       [6.3, 2.3, 4.4, 1.3],\n",
              "       [5.6, 3. , 4.1, 1.3],\n",
              "       [5.5, 2.5, 4. , 1.3],\n",
              "       [5.5, 2.6, 4.4, 1.2],\n",
              "       [6.1, 3. , 4.6, 1.4],\n",
              "       [5.8, 2.6, 4. , 1.2],\n",
              "       [5. , 2.3, 3.3, 1. ],\n",
              "       [5.6, 2.7, 4.2, 1.3],\n",
              "       [5.7, 3. , 4.2, 1.2],\n",
              "       [5.7, 2.9, 4.2, 1.3],\n",
              "       [6.2, 2.9, 4.3, 1.3],\n",
              "       [5.1, 2.5, 3. , 1.1],\n",
              "       [5.7, 2.8, 4.1, 1.3],\n",
              "       [6.3, 3.3, 6. , 2.5],\n",
              "       [5.8, 2.7, 5.1, 1.9],\n",
              "       [7.1, 3. , 5.9, 2.1],\n",
              "       [6.3, 2.9, 5.6, 1.8],\n",
              "       [6.5, 3. , 5.8, 2.2],\n",
              "       [7.6, 3. , 6.6, 2.1],\n",
              "       [4.9, 2.5, 4.5, 1.7],\n",
              "       [7.3, 2.9, 6.3, 1.8],\n",
              "       [6.7, 2.5, 5.8, 1.8],\n",
              "       [7.2, 3.6, 6.1, 2.5],\n",
              "       [6.5, 3.2, 5.1, 2. ],\n",
              "       [6.4, 2.7, 5.3, 1.9],\n",
              "       [6.8, 3. , 5.5, 2.1],\n",
              "       [5.7, 2.5, 5. , 2. ],\n",
              "       [5.8, 2.8, 5.1, 2.4],\n",
              "       [6.4, 3.2, 5.3, 2.3],\n",
              "       [6.5, 3. , 5.5, 1.8],\n",
              "       [7.7, 3.8, 6.7, 2.2],\n",
              "       [7.7, 2.6, 6.9, 2.3],\n",
              "       [6. , 2.2, 5. , 1.5],\n",
              "       [6.9, 3.2, 5.7, 2.3],\n",
              "       [5.6, 2.8, 4.9, 2. ],\n",
              "       [7.7, 2.8, 6.7, 2. ],\n",
              "       [6.3, 2.7, 4.9, 1.8],\n",
              "       [6.7, 3.3, 5.7, 2.1],\n",
              "       [7.2, 3.2, 6. , 1.8],\n",
              "       [6.2, 2.8, 4.8, 1.8],\n",
              "       [6.1, 3. , 4.9, 1.8],\n",
              "       [6.4, 2.8, 5.6, 2.1],\n",
              "       [7.2, 3. , 5.8, 1.6],\n",
              "       [7.4, 2.8, 6.1, 1.9],\n",
              "       [7.9, 3.8, 6.4, 2. ],\n",
              "       [6.4, 2.8, 5.6, 2.2],\n",
              "       [6.3, 2.8, 5.1, 1.5],\n",
              "       [6.1, 2.6, 5.6, 1.4],\n",
              "       [7.7, 3. , 6.1, 2.3],\n",
              "       [6.3, 3.4, 5.6, 2.4],\n",
              "       [6.4, 3.1, 5.5, 1.8],\n",
              "       [6. , 3. , 4.8, 1.8],\n",
              "       [6.9, 3.1, 5.4, 2.1],\n",
              "       [6.7, 3.1, 5.6, 2.4],\n",
              "       [6.9, 3.1, 5.1, 2.3],\n",
              "       [5.8, 2.7, 5.1, 1.9],\n",
              "       [6.8, 3.2, 5.9, 2.3],\n",
              "       [6.7, 3.3, 5.7, 2.5],\n",
              "       [6.7, 3. , 5.2, 2.3],\n",
              "       [6.3, 2.5, 5. , 1.9],\n",
              "       [6.5, 3. , 5.2, 2. ],\n",
              "       [6.2, 3.4, 5.4, 2.3],\n",
              "       [5.9, 3. , 5.1, 1.8]])"
            ]
          },
          "metadata": {},
          "execution_count": 74
        }
      ]
    },
    {
      "cell_type": "code",
      "source": [
        "New_data = PCA(Data,4)\n",
        "\n",
        "#g_prime = sns.pairplot(pd.DataFrame(New_data))\n",
        "zeros = np.zeros(np.shape(New_data))\n",
        "plt.scatter(New_data,zeros)\n",
        "iris.target_names"
      ],
      "metadata": {
        "colab": {
          "base_uri": "https://localhost:8080/",
          "height": 282
        },
        "id": "_twjEaF3qNW6",
        "outputId": "856c28f8-5061-48f4-b7f5-28e05d649416"
      },
      "execution_count": null,
      "outputs": [
        {
          "output_type": "execute_result",
          "data": {
            "text/plain": [
              "array(['setosa', 'versicolor', 'virginica'], dtype='<U10')"
            ]
          },
          "metadata": {},
          "execution_count": 85
        },
        {
          "output_type": "display_data",
          "data": {
            "text/plain": [
              "<Figure size 432x288 with 1 Axes>"
            ],
            "image/png": "[encoded data removed]"
          },
          "metadata": {
            "needs_background": "light"
          }
        }
      ]
    },
    {
      "cell_type": "markdown",
      "source": [
        "This shows us that even one Principal component is enough to find the clusters. But we just need to put labels on the data."
      ],
      "metadata": {
        "id": "RSmf_p0y1DrI"
      }
    },
    {
      "cell_type": "code",
      "source": [],
      "metadata": {
        "id": "EhgDn-qBzbDK"
      },
      "execution_count": null,
      "outputs": []
    },
    {
      "cell_type": "code",
      "source": [],
      "metadata": {
        "id": "ekIlvwQuzXja"
      },
      "execution_count": null,
      "outputs": []
    },
    {
      "cell_type": "code",
      "source": [],
      "metadata": {
        "id": "3eG20u6fx6NP"
      },
      "execution_count": null,
      "outputs": []
    }
  ]
}